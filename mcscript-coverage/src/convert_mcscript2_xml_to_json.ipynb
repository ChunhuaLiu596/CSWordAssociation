{
  "cells": [
    {
      "cell_type": "code",
      "metadata": {},
      "source": [
        "import os, sys\n",
        "import json\n",
        "import xmltodict\n",
        "import pandas as pd\n",
        "from tqdm import tqdm\n",
        "tqdm.pandas()\n",
        "import xml.etree.ElementTree as ET\n"
      ],
      "outputs": [],
      "execution_count": 5
    },
    {
      "cell_type": "code",
      "execution_count": 11,
      "metadata": {},
      "outputs": [],
      "source": [
        "\n",
        "\n",
        "def convert_xml_to_json(input_path):\n",
        "    tree = ET.parse(input_path)\n",
        "    root = tree.getroot()\n",
        "\n",
        "    json_data = []\n",
        "    count = 0\n",
        "    for instance in root.iter('instance'):\n",
        "        data ={}\n",
        "        # print(instance.tag, instance.attrib)\n",
        "        p_id = instance.attrib['id']\n",
        "        for p in instance.iter('text'):\n",
        "            p_text = p.text \n",
        "\n",
        "        for qs in instance.iter('questions'):\n",
        "            for q in qs:\n",
        "                q_text = q.attrib['text']\n",
        "                stem = p_text + ' [SEP] ' + q_text \n",
        "                q_id = q.attrib['id']\n",
        "                id = \"-\".join([p_id, q_id])\n",
        "                \n",
        "                question = {}\n",
        "                question['stem'] = q_test  \n",
        "                question['para'] = p_text \n",
        "                choices=[]\n",
        "            \n",
        "                for ans in q.iter('answer'):\n",
        "                    ans_dict = {}\n",
        "                    label = chr(int(ans.attrib['id'])+ 65)      \n",
        "                    ans_dict[\"text\"] = ans.attrib['text']\n",
        "                    ans_dict[\"label\"] = label \n",
        "                    choices.append(ans_dict)\n",
        "                    \n",
        "                    if ans.attrib[\"correct\"] == \"True\":\n",
        "                        answerKey=label\n",
        "                # print(id, q_text, answerKey)\n",
        "                question['choices'] = choices \n",
        "                data = {\n",
        "                    \"id\": id,\n",
        "                    \"question\": question,\n",
        "                    \"answerKey\": answerKey,\n",
        "                }\n",
        "                \n",
        "                json_data.append(data)\n",
        "    return json_data "
      ]
    },
    {
      "cell_type": "code",
      "execution_count": 14,
      "metadata": {},
      "outputs": [
        {
          "output_type": "stream",
          "name": "stdout",
          "text": [
            "save ../data/mcscript2/train-data.json 14191 lines\n",
            "save ../data/mcscript2/dev-data.json 2020 lines\n",
            "save ../data/mcscript2/test-data.json 3610 lines\n"
          ]
        }
      ],
      "source": [
        "import pandas as pd \n",
        "data_dir = '../data/mcscript2/'\n",
        "names = ['train-data.xml', 'dev-data.xml', 'test-data.xml']\n",
        "\n",
        "for name in names:\n",
        "    input_path = os.path.join(data_dir, name)\n",
        "    output_path = os.path.join(data_dir, name.split(\".\")[0]+'.json')\n",
        "\n",
        "    json_data = convert_xml_to_json(input_path)\n",
        "\n",
        "    df = pd.DataFrame(json_data)\n",
        "    df.to_json(output_path, orient='records', lines=True)\n",
        "    print(f\"save {output_path} {len(df.index)} lines\")"
      ]
    },
    {
      "cell_type": "code",
      "execution_count": 13,
      "metadata": {},
      "outputs": [
        {
          "output_type": "stream",
          "name": "stdout",
          "text": [
            "/home/chunhua/Commonsense/CPG/analysis/src\n['graph_statistics.ipynb', 'kgsrc', 'convert_mcscript2.py', 'clean_nodes.py', 'visualization_network.py', 'graph_statistics.py', 'convert_mcscript2.ipynb', 'utils_graph.py', 'allen_srl.py', 'spacy_src', 'graph_normalize.py', 'visualization_network.ipynb', '__pycache__', 'read_mcscript.py']\n"
          ]
        }
      ],
      "source": [
        "import os\n",
        "print(os.getcwd())\n",
        "print(os.listdir())"
      ]
    }
  ],
  "metadata": {
    "anaconda-cloud": {},
    "kernelspec": {
      "name": "python3613jvsc74a57bd0018320d066b20d93cd1514d37b186de438e6b1a0d3b7be5322e927a31bbdbeea",
      "display_name": "Python 3.6.13 64-bit ('allennlp': conda)"
    },
    "language_info": {
      "codemirror_mode": {
        "name": "ipython",
        "version": 3
      },
      "file_extension": ".py",
      "mimetype": "text/x-python",
      "name": "python",
      "nbconvert_exporter": "python",
      "pygments_lexer": "ipython3",
      "version": "3.6.13"
    }
  },
  "nbformat": 4,
  "nbformat_minor": 4
}