{
 "metadata": {
  "language_info": {
   "codemirror_mode": {
    "name": "ipython",
    "version": 3
   },
   "file_extension": ".py",
   "mimetype": "text/x-python",
   "name": "python",
   "nbconvert_exporter": "python",
   "pygments_lexer": "ipython3",
   "version": "3.6.13"
  },
  "orig_nbformat": 2,
  "kernelspec": {
   "name": "python3613jvsc74a57bd0018320d066b20d93cd1514d37b186de438e6b1a0d3b7be5322e927a31bbdbeea",
   "display_name": "Python 3.6.13 64-bit ('allennlp': conda)"
  }
 },
 "nbformat": 4,
 "nbformat_minor": 2,
 "cells": [
  {
   "cell_type": "code",
   "execution_count": 10,
   "metadata": {},
   "outputs": [
    {
     "output_type": "execute_result",
     "data": {
      "text/plain": [
       "<IPython.lib.display.IFrame at 0x7f6bf9856908>"
      ],
      "text/html": "\n        <iframe\n            width=\"500px\"\n            height=\"500px\"\n            src=\"basic.html\"\n            frameborder=\"0\"\n            allowfullscreen\n        ></iframe>\n        "
     },
     "metadata": {},
     "execution_count": 10
    }
   ],
   "source": [
    "from pyvis.network import Network\n",
    "\n",
    "g = Network(notebook=True)\n",
    "g.add_node(0)\n",
    "g.add_node(1)\n",
    "g.add_edge(0, 1)\n",
    "g.show(\"basic.html\")"
   ]
  },
  {
   "cell_type": "code",
   "execution_count": 4,
   "metadata": {},
   "outputs": [
    {
     "output_type": "execute_result",
     "data": {
      "text/plain": [
       "<IPython.core.display.HTML object>"
      ],
      "text/html": "<html>\n<head>\n<link rel=\"stylesheet\" href=\"https://cdnjs.cloudflare.com/ajax/libs/vis/4.16.1/vis.css\" type=\"text/css\" />\n<script type=\"text/javascript\" src=\"https://cdnjs.cloudflare.com/ajax/libs/vis/4.16.1/vis-network.min.js\"> </script>\n<center>\n<h1></h1>\n</center>\n\n<!-- <link rel=\"stylesheet\" href=\"../node_modules/vis/dist/vis.min.css\" type=\"text/css\" />\n<script type=\"text/javascript\" src=\"../node_modules/vis/dist/vis.js\"> </script>-->\n\n<style type=\"text/css\">\n\n        #mynetwork {\n            width: 700px;\n            height: 1000px;\n            background-color: #ffffff;\n            border: 1px solid lightgray;\n            position: relative;\n            float: left;\n        }\n\n        \n\n        \n\n        \n</style>\n\n</head>\n\n<body>\n<div id = \"mynetwork\"></div>\n\n\n<script type=\"text/javascript\">\n\n    // initialize global variables.\n    var edges;\n    var nodes;\n    var network; \n    var container;\n    var options, data;\n\n    \n    // This method is responsible for drawing the graph, returns the drawn network\n    function drawGraph() {\n        var container = document.getElementById('mynetwork');\n        \n        \n\n        // parsing and collecting nodes and edges from the python\n        nodes = new vis.DataSet([{\"id\": \"driver\", \"label\": \"driver\", \"shape\": \"dot\", \"size\": 10}, {\"id\": \"ask\", \"label\": \"ask\", \"shape\": \"dot\", \"size\": 10}, {\"id\": \"receptionist\", \"label\": \"receptionist\", \"shape\": \"dot\", \"size\": 10}, {\"id\": \"see\", \"label\": \"see\", \"shape\": \"dot\", \"size\": 10}, {\"id\": \"card\", \"label\": \"card\", \"shape\": \"dot\", \"size\": 10}, {\"id\": \"license\", \"label\": \"license\", \"shape\": \"dot\", \"size\": 10}, {\"id\": \"insurance\", \"label\": \"insurance\", \"shape\": \"dot\", \"size\": 10}, {\"id\": \"name\", \"label\": \"name\", \"shape\": \"dot\", \"size\": 10}, {\"id\": \"doctor\", \"label\": \"doctor\", \"shape\": \"dot\", \"size\": 10}, {\"id\": \"breathing\", \"label\": \"breathing\", \"shape\": \"dot\", \"size\": 10}, {\"id\": \"throat\", \"label\": \"throat\", \"shape\": \"dot\", \"size\": 10}, {\"id\": \"ear\", \"label\": \"ear\", \"shape\": \"dot\", \"size\": 10}, {\"id\": \"exam\", \"label\": \"exam\", \"shape\": \"dot\", \"size\": 10}, {\"id\": \"room\", \"label\": \"room\", \"shape\": \"dot\", \"size\": 10}, {\"id\": \"leave\", \"label\": \"leave\", \"shape\": \"dot\", \"size\": 10}, {\"id\": \"listen\", \"label\": \"listen\", \"shape\": \"dot\", \"size\": 10}, {\"id\": \"heart\", \"label\": \"heart\", \"shape\": \"dot\", \"size\": 10}, {\"id\": \"exam room\", \"label\": \"exam room\", \"shape\": \"dot\", \"size\": 10}, {\"id\": \"look\", \"label\": \"look\", \"shape\": \"dot\", \"size\": 10}, {\"id\": \"eye\", \"label\": \"eye\", \"shape\": \"dot\", \"size\": 10}, {\"id\": \"assistant\", \"label\": \"assistant\", \"shape\": \"dot\", \"size\": 10}, {\"id\": \"measure\", \"label\": \"measure\", \"shape\": \"dot\", \"size\": 10}, {\"id\": \"pressure\", \"label\": \"pressure\", \"shape\": \"dot\", \"size\": 10}, {\"id\": \"blood pressure\", \"label\": \"blood pressure\", \"shape\": \"dot\", \"size\": 10}, {\"id\": \"weight\", \"label\": \"weight\", \"shape\": \"dot\", \"size\": 10}, {\"id\": \"height\", \"label\": \"height\", \"shape\": \"dot\", \"size\": 10}, {\"id\": \"tthemperature\", \"label\": \"tthemperature\", \"shape\": \"dot\", \"size\": 10}, {\"id\": \"blood\", \"label\": \"blood\", \"shape\": \"dot\", \"size\": 10}, {\"id\": \"heart rate\", \"label\": \"heart rate\", \"shape\": \"dot\", \"size\": 10}, {\"id\": \"rate\", \"label\": \"rate\", \"shape\": \"dot\", \"size\": 10}, {\"id\": \"computer\", \"label\": \"computer\", \"shape\": \"dot\", \"size\": 10}, {\"id\": \"datum\", \"label\": \"datum\", \"shape\": \"dot\", \"size\": 10}, {\"id\": \"inputte\", \"label\": \"inputte\", \"shape\": \"dot\", \"size\": 10}, {\"id\": \"thing\", \"label\": \"thing\", \"shape\": \"dot\", \"size\": 10}, {\"id\": \"do\", \"label\": \"do\", \"shape\": \"dot\", \"size\": 10}]);\n        edges = new vis.DataSet([{\"from\": \"driver\", \"rel\": \"ARG1V\", \"to\": \"ask\", \"weight\": 1}, {\"from\": \"driver\", \"rel\": \"ARG01\", \"to\": \"receptionist\", \"weight\": 1}, {\"from\": \"ask\", \"rel\": \"ARG0V\", \"to\": \"receptionist\", \"weight\": 1}, {\"from\": \"ask\", \"rel\": \"ARG1V\", \"to\": \"see\", \"weight\": 1}, {\"from\": \"ask\", \"rel\": \"ARG1V\", \"to\": \"card\", \"weight\": 1}, {\"from\": \"ask\", \"rel\": \"ARG1V\", \"to\": \"license\", \"weight\": 1}, {\"from\": \"ask\", \"rel\": \"ARG1V\", \"to\": \"insurance\", \"weight\": 1}, {\"from\": \"ask\", \"rel\": \"ARG1V\", \"to\": \"name\", \"weight\": 1}, {\"from\": \"receptionist\", \"rel\": \"ARG01\", \"to\": \"license\", \"weight\": 1}, {\"from\": \"receptionist\", \"rel\": \"ARG01\", \"to\": \"name\", \"weight\": 1}, {\"from\": \"receptionist\", \"rel\": \"ARG01\", \"to\": \"insurance\", \"weight\": 1}, {\"from\": \"receptionist\", \"rel\": \"ARG01\", \"to\": \"card\", \"weight\": 1}, {\"from\": \"receptionist\", \"rel\": \"ARG01\", \"to\": \"see\", \"weight\": 1}, {\"from\": \"doctor\", \"rel\": \"ARG01\", \"to\": \"breathing\", \"weight\": 1}, {\"from\": \"doctor\", \"rel\": \"ARG01\", \"to\": \"throat\", \"weight\": 1}, {\"from\": \"doctor\", \"rel\": \"ARG01\", \"to\": \"ear\", \"weight\": 1}, {\"from\": \"doctor\", \"rel\": \"ARG01\", \"to\": \"exam\", \"weight\": 1}, {\"from\": \"doctor\", \"rel\": \"ARG01\", \"to\": \"room\", \"weight\": 1}, {\"from\": \"doctor\", \"rel\": \"ARG0V\", \"to\": \"leave\", \"weight\": 1}, {\"from\": \"doctor\", \"rel\": \"ARG0V\", \"to\": \"listen\", \"weight\": 1}, {\"from\": \"doctor\", \"rel\": \"ARG01\", \"to\": \"heart\", \"weight\": 1}, {\"from\": \"doctor\", \"rel\": \"ARG01\", \"to\": \"exam room\", \"weight\": 1}, {\"from\": \"doctor\", \"rel\": \"ARG0V\", \"to\": \"look\", \"weight\": 1}, {\"from\": \"doctor\", \"rel\": \"ARG01\", \"to\": \"eye\", \"weight\": 1}, {\"from\": \"breathing\", \"rel\": \"ARG1V\", \"to\": \"listen\", \"weight\": 1}, {\"from\": \"assistant\", \"rel\": \"ARG0V\", \"to\": \"measure\", \"weight\": 1}, {\"from\": \"assistant\", \"rel\": \"ARG01\", \"to\": \"pressure\", \"weight\": 1}, {\"from\": \"assistant\", \"rel\": \"ARG01\", \"to\": \"blood pressure\", \"weight\": 1}, {\"from\": \"assistant\", \"rel\": \"ARG01\", \"to\": \"weight\", \"weight\": 1}, {\"from\": \"assistant\", \"rel\": \"ARG01\", \"to\": \"height\", \"weight\": 1}, {\"from\": \"assistant\", \"rel\": \"ARG01\", \"to\": \"tthemperature\", \"weight\": 1}, {\"from\": \"assistant\", \"rel\": \"ARG01\", \"to\": \"blood\", \"weight\": 1}, {\"from\": \"assistant\", \"rel\": \"ARG01\", \"to\": \"heart\", \"weight\": 1}, {\"from\": \"assistant\", \"rel\": \"ARG01\", \"to\": \"heart rate\", \"weight\": 1}, {\"from\": \"assistant\", \"rel\": \"ARG01\", \"to\": \"rate\", \"weight\": 1}, {\"from\": \"measure\", \"rel\": \"ARG1V\", \"to\": \"pressure\", \"weight\": 1}, {\"from\": \"measure\", \"rel\": \"ARG1V\", \"to\": \"heart rate\", \"weight\": 1}, {\"from\": \"measure\", \"rel\": \"ARG1V\", \"to\": \"weight\", \"weight\": 1}, {\"from\": \"measure\", \"rel\": \"ARG1V\", \"to\": \"blood pressure\", \"weight\": 1}, {\"from\": \"measure\", \"rel\": \"ARG1V\", \"to\": \"height\", \"weight\": 1}, {\"from\": \"measure\", \"rel\": \"ARG1V\", \"to\": \"rate\", \"weight\": 1}, {\"from\": \"measure\", \"rel\": \"ARG1V\", \"to\": \"heart\", \"weight\": 1}, {\"from\": \"measure\", \"rel\": \"ARG1V\", \"to\": \"blood\", \"weight\": 1}, {\"from\": \"measure\", \"rel\": \"ARG1V\", \"to\": \"tthemperature\", \"weight\": 1}, {\"from\": \"computer\", \"rel\": \"ARG1V\", \"to\": \"look\", \"weight\": 1}, {\"from\": \"look\", \"rel\": \"ARG1V\", \"to\": \"ear\", \"weight\": 1}, {\"from\": \"look\", \"rel\": \"ARG1V\", \"to\": \"eye\", \"weight\": 1}, {\"from\": \"look\", \"rel\": \"ARG1V\", \"to\": \"datum\", \"weight\": 1}, {\"from\": \"look\", \"rel\": \"ARG1V\", \"to\": \"throat\", \"weight\": 1}, {\"from\": \"exam\", \"rel\": \"ARG1V\", \"to\": \"leave\", \"weight\": 1}, {\"from\": \"leave\", \"rel\": \"ARG1V\", \"to\": \"exam room\", \"weight\": 1}, {\"from\": \"leave\", \"rel\": \"ARG1V\", \"to\": \"room\", \"weight\": 1}, {\"from\": \"listen\", \"rel\": \"ARG1V\", \"to\": \"heart\", \"weight\": 1}, {\"from\": \"datum\", \"rel\": \"ARG1V\", \"to\": \"inputte\", \"weight\": 1}, {\"from\": \"thing\", \"rel\": \"ARG1V\", \"to\": \"do\", \"weight\": 1}]);\n\n        // adding nodes and edges to the graph\n        data = {nodes: nodes, edges: edges};\n\n        var options = {\n    \"configure\": {\n        \"enabled\": false\n    },\n    \"edges\": {\n        \"color\": {\n            \"inherit\": true\n        },\n        \"smooth\": {\n            \"enabled\": false,\n            \"type\": \"continuous\"\n        }\n    },\n    \"interaction\": {\n        \"dragNodes\": true,\n        \"hideEdgesOnDrag\": false,\n        \"hideNodesOnDrag\": false\n    },\n    \"physics\": {\n        \"enabled\": true,\n        \"stabilization\": {\n            \"enabled\": true,\n            \"fit\": true,\n            \"iterations\": 1000,\n            \"onlyDynamicEdges\": false,\n            \"updateInterval\": 50\n        }\n    }\n};\n        \n        \n\n        \n\n        network = new vis.Network(container, data, options);\n\t \n        \n\n\n        \n\n        return network;\n\n    }\n\n    drawGraph();\n\n</script>\n</body>\n</html>"
     },
     "metadata": {},
     "execution_count": 4
    }
   ],
   "source": [
    "from IPython.display import HTML\n",
    "# HTML(filename=\"basic.html\")\n",
    "HTML(filename=\"../output/figure/mc.html\")"
   ]
  },
  {
   "cell_type": "code",
   "execution_count": null,
   "metadata": {},
   "outputs": [],
   "source": [
    "chunhua@doe:~/Commonsense/CPG/analysis/src/visualization_network.ipynb "
   ]
  }
 ]
}