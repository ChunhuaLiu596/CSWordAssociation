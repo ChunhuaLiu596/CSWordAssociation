{
 "metadata": {
  "language_info": {
   "codemirror_mode": {
    "name": "ipython",
    "version": 3
   },
   "file_extension": ".py",
   "mimetype": "text/x-python",
   "name": "python",
   "nbconvert_exporter": "python",
   "pygments_lexer": "ipython3",
   "version": "3.6.13"
  },
  "orig_nbformat": 2,
  "kernelspec": {
   "name": "python3613jvsc74a57bd0018320d066b20d93cd1514d37b186de438e6b1a0d3b7be5322e927a31bbdbeea",
   "display_name": "Python 3.6.13 64-bit ('allennlp': conda)"
  }
 },
 "nbformat": 4,
 "nbformat_minor": 2,
 "cells": [
  {
   "cell_type": "code",
   "execution_count": 1,
   "metadata": {},
   "outputs": [],
   "source": [
    "import pandas as pd \n",
    "import networkx as nx \n",
    "from tqdm import tqdm \n",
    "tqdm.pandas()\n",
    "import matplotlib.pyplot as plt\n",
    "from statistics import mean\n",
    "from tqdm import tqdm \n",
    "from datetime import datetime \n",
    "import csv \n",
    "from utils_graph import *\n",
    "from operator import add\n",
    "import math "
   ]
  },
  {
   "cell_type": "code",
   "execution_count": 2,
   "metadata": {},
   "outputs": [],
   "source": [
    "type = 'MultiDiGraph'\n",
    "# type = 'undirected'\n",
    "GC = build_graph_from_csv('../data/cpnet47rel/conceptnet.en.csv', type)\n",
    "GS = build_graph_from_csv('../data/swow/conceptnet.en.csv', type)"
   ]
  },
  {
   "cell_type": "code",
   "execution_count": 3,
   "metadata": {},
   "outputs": [],
   "source": [
    "def get_node_entropy(G):\n",
    "    '''\n",
    "    210608: a simper version of computing node entropy, but the results are inconsitent wiht previous one, using the old one\n",
    "\n",
    "    '''\n",
    "    degrees =  [val for (node, val) in G.degree()]\n",
    "\n",
    "    E = G.size()\n",
    "    ent2prob = list(map(lambda x: x/E, degrees))\n",
    "    ent2entropy = list(map(lambda x: -x*math.log(x), ent2prob))\n",
    "    ent_entropy = sum(ent2entropy)\n",
    "    \n",
    "    # print(ent_entropy)\n",
    "    return ent_entropy "
   ]
  },
  {
   "cell_type": "code",
   "execution_count": 4,
   "metadata": {},
   "outputs": [
    {
     "output_type": "stream",
     "name": "stdout",
     "text": [
      "           KG  #Triples   #Nodes  #Rels   Density     Degree         HN\n0  ConceptNet   3009636  1080759     47  0.000003   2.784743  23.283556\n0        SWOW   1593564   124626      2  0.000103  12.786770  18.073260\n"
     ]
    }
   ],
   "source": [
    "df = pd.DataFrame(data= {})\n",
    "relation_num = {\"ConceptNet\":47, \"SWOW\":2}\n",
    "\n",
    "directed = True if type in ('MultiDiGraph') else False \n",
    "def get_statistics(G, kg_name):\n",
    "    density = nx.density(G)\n",
    "    \n",
    "    avg_degrees = average_degree(G, directed=directed)\n",
    "    # node_entropy = get_node_entropy(G) \n",
    "    \n",
    "    node_entropy = get_node_entropy(G)\n",
    "    columns = ['#Triples', '#Nodes', '#Rels', 'Density', 'Degree', 'HN']\n",
    "    df = pd.DataFrame(data={\n",
    "        'KG': kg_name, \n",
    "        '#Triples': G.size(),\n",
    "        '#Nodes': G.order(),\n",
    "        '#Rels': relation_num.get(kg_name), \n",
    "        'Density': density,\n",
    "        'Degree': avg_degrees,\n",
    "        'HN': node_entropy\n",
    "    }, index = [0])\n",
    "    # print(df)\n",
    "    return df \n",
    "\n",
    "df1=get_statistics(GC, \"ConceptNet\")\n",
    "df2=get_statistics(GS, \"SWOW\")\n",
    "df = pd.concat([df1, df2])\n",
    "print(df) \n"
   ]
  },
  {
   "cell_type": "code",
   "execution_count": 5,
   "metadata": {},
   "outputs": [
    {
     "output_type": "stream",
     "name": "stdout",
     "text": [
      "0    39.819796\nName: Density, dtype: float64\n0    4.591724\nName: Degree, dtype: float64\n0    0.776224\nName: HN, dtype: float64\n"
     ]
    }
   ],
   "source": [
    "print(df2['Density']/df1['Density'])\n",
    "print(df2['Degree']/df1['Degree'])\n",
    "print(df2['HN']/df1['HN'])"
   ]
  },
  {
   "cell_type": "code",
   "execution_count": null,
   "metadata": {},
   "outputs": [],
   "source": [
    "#\n",
    "# MultiDiGraph graph \n",
    "   KG  #Triples   #Nodes #Rels   Density     Degree        HN\n",
    "0  CN   3009636  1080759  47  0.000003   2.784743  5.356807\n",
    "0  SW   1593564   124626  2   0.000103  12.786770  1.116895\n",
    "\n",
    "\n",
    "# Undirected  graph \n",
    "   KG #Triples   #Nodes  #Rels   Density     Degree        HN\n",
    "0  CN  2587451  1080759     47  0.000004   4.788211  6.167725\n",
    "0  SW  1280059   124626      2  0.000165  20.542407  1.369111"
   ]
  },
  {
   "cell_type": "code",
   "execution_count": 11,
   "metadata": {},
   "outputs": [
    {
     "output_type": "stream",
     "name": "stdout",
     "text": [
      "ka_name: test node: 5 edge: 10.0  P: 0.4 entropy: 1.8325814637483102\n"
     ]
    },
    {
     "output_type": "execute_result",
     "data": {
      "text/plain": [
       "1.8325814637483102"
      ]
     },
     "metadata": {},
     "execution_count": 11
    }
   ],
   "source": [
    "import math \n",
    "\n",
    "N1 = 1080759\n",
    "N2 = 124626\n",
    "def compute_entropy_for_complete_graph(N, kg_name):\n",
    "    E = N * (N -1 )/2  #total edges \n",
    "    prob = (N-1)/E     #probability of each node which has (N-1) connections \n",
    "    Hn = 0 \n",
    "    for i in range(N):   #sum over all edges \n",
    "        Hn += -prob*math.log(prob)\n",
    "    print(f\"ka_name: {kg_name} node: {N} edge: {E}  P: {prob} entropy: {Hn}\")\n",
    "    return  Hn  \n",
    "\n",
    "compute_entropy_for_complete_graph(5, 'test')\n",
    "# compute_entropy_for_complete_graph(N1, 'CN')\n",
    "# compute_entropy_for_complete_graph(N2, 'SW')"
   ]
  },
  {
   "cell_type": "code",
   "execution_count": 18,
   "metadata": {},
   "outputs": [
    {
     "output_type": "stream",
     "name": "stdout",
     "text": [
      "18.18113300210889\n"
     ]
    }
   ],
   "source": [
    "\n",
    "# G = GS \n",
    "# out_degrees = [val for (node, val) in G.out_degree()]\n",
    "# in_degrees =  [val for (node, val) in G.in_degree()]\n",
    "# degrees = list( map(add, out_degrees, in_degrees) )\n",
    "\n",
    "    # ent2prob = {k : (v/) for k,v in ent2count.items()}\n",
    "    # ent2entropy = {k : -v*math.log(v) for k,v in ent2prob.items()}\n",
    "    # self.ent_entropy = sum(v for k, v in ent2entropy.items())"
   ]
  }
 ]
}